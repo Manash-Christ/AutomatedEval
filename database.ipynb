{
 "cells": [
  {
   "cell_type": "code",
   "execution_count": 2,
   "metadata": {},
   "outputs": [
    {
     "name": "stdout",
     "output_type": "stream",
     "text": [
      "Defaulting to user installation because normal site-packages is not writeable\n",
      "Requirement already satisfied: sqlalchemy in /home/manax/.local/lib/python3.10/site-packages (2.0.31)\n",
      "Requirement already satisfied: typing-extensions>=4.6.0 in /home/manax/.local/lib/python3.10/site-packages (from sqlalchemy) (4.11.0)\n",
      "Requirement already satisfied: greenlet!=0.4.17 in /home/manax/.local/lib/python3.10/site-packages (from sqlalchemy) (3.0.3)\n",
      "\n",
      "\u001b[1m[\u001b[0m\u001b[34;49mnotice\u001b[0m\u001b[1;39;49m]\u001b[0m\u001b[39;49m A new release of pip is available: \u001b[0m\u001b[31;49m24.1.2\u001b[0m\u001b[39;49m -> \u001b[0m\u001b[32;49m24.2\u001b[0m\n",
      "\u001b[1m[\u001b[0m\u001b[34;49mnotice\u001b[0m\u001b[1;39;49m]\u001b[0m\u001b[39;49m To update, run: \u001b[0m\u001b[32;49mpip install --upgrade pip\u001b[0m\n",
      "Note: you may need to restart the kernel to use updated packages.\n"
     ]
    }
   ],
   "source": [
    "pip install sqlalchemy"
   ]
  },
  {
   "cell_type": "code",
   "execution_count": 3,
   "metadata": {},
   "outputs": [],
   "source": []
  },
  {
   "cell_type": "code",
   "execution_count": 4,
   "metadata": {},
   "outputs": [
    {
     "name": "stderr",
     "output_type": "stream",
     "text": [
      "2024-08-24 16:38:47.334 WARNING streamlit.runtime.state.session_state_proxy: Session state does not function when running a script without `streamlit run`\n",
      "2024-08-24 16:38:47.559 \n",
      "  \u001b[33m\u001b[1mWarning:\u001b[0m to view this Streamlit app on a browser, run it with the following\n",
      "  command:\n",
      "\n",
      "    streamlit run /home/manax/.local/lib/python3.10/site-packages/ipykernel_launcher.py [ARGUMENTS]\n"
     ]
    }
   ],
   "source": [
    "import streamlit as st\n",
    "from sqlalchemy import create_engine, Column, String, Integer, MetaData, Table, select\n",
    "from sqlalchemy.orm import sessionmaker\n",
    "\n",
    "# Set up the SQLite database\n",
    "DATABASE_URL = \"sqlite:///users.db\"\n",
    "engine = create_engine(DATABASE_URL)\n",
    "metadata = MetaData()\n",
    "\n",
    "# Define the User table\n",
    "users_table = Table(\n",
    "    'users', metadata,\n",
    "    Column('id', Integer, primary_key=True, autoincrement=True),\n",
    "    Column('username', String, unique=True, nullable=False),\n",
    "    Column('password', String, nullable=False),\n",
    "    Column('role', String, nullable=False)  # Role can be 'Student' or 'Evaluator'\n",
    ")\n",
    "\n",
    "# Create the table in the database\n",
    "metadata.create_all(engine)\n",
    "\n",
    "# Create a session to interact with the database\n",
    "Session = sessionmaker(bind=engine)\n",
    "session = Session()\n",
    "\n",
    "# Function to register a new user\n",
    "def register_user(username, password, role):\n",
    "    # Check if the user already exists\n",
    "    existing_user = session.execute(select(users_table).where(users_table.c.username == username)).fetchone()\n",
    "    if existing_user:\n",
    "        st.warning(\"Username already exists\")\n",
    "    else:\n",
    "        # Insert new user into the database\n",
    "        session.execute(users_table.insert().values(username=username, password=password, role=role))\n",
    "        session.commit()\n",
    "        st.success(f\"Successfully registered as a {role}\")\n",
    "\n",
    "# Function to authenticate user login\n",
    "def authenticate_user(username, password, role):\n",
    "    user = session.execute(select(users_table).where(users_table.c.username == username).where(users_table.c.password == password).where(users_table.c.role == role)).fetchone()\n",
    "    return user is not None\n",
    "\n",
    "# Function to handle login and registration\n",
    "def login_page():\n",
    "    st.title(\"Login\")\n",
    "\n",
    "    role = st.selectbox(\"Select your role\", [\"Student\", \"Evaluator\"])\n",
    "    action = st.radio(\"Action\", [\"Login\", \"Register\"])\n",
    "\n",
    "    username = st.text_input(\"Username\")\n",
    "    password = st.text_input(\"Password\", type=\"password\")\n",
    "\n",
    "    if st.button(\"Submit\"):\n",
    "        if action == \"Register\":\n",
    "            register_user(username, password, role)\n",
    "        else:\n",
    "            if authenticate_user(username, password, role):\n",
    "                st.session_state[\"user\"] = {\"role\": role, \"username\": username}\n",
    "                st.success(\"Login successful\")\n",
    "            else:\n",
    "                st.error(\"Invalid credentials\")\n",
    "\n",
    "# Sidebar navigation\n",
    "def sidebar():\n",
    "    st.sidebar.title(\"Navigation\")\n",
    "    if \"user\" not in st.session_state:\n",
    "        st.sidebar.write(\"Please log in to continue\")\n",
    "        return\n",
    "    role = st.session_state[\"user\"][\"role\"]\n",
    "    st.sidebar.write(f\"Logged in as: {role}\")\n",
    "\n",
    "    if role == \"Student\":\n",
    "        page = st.sidebar.radio(\"Go to\", [\"About\", \"Student\", \"Score\", \"Future Scope\", \"Logout\"])\n",
    "    elif role == \"Evaluator\":\n",
    "        page = st.sidebar.radio(\"Go to\", [\"About\", \"Evaluator\", \"Score\", \"Future Scope\", \"Logout\"])\n",
    "    else:\n",
    "        page = st.sidebar.radio(\"Go to\", [\"About\", \"Future Scope\", \"Logout\"])\n",
    "\n",
    "    if page == \"Logout\":\n",
    "        del st.session_state[\"user\"]\n",
    "        st.experimental_rerun()\n",
    "\n",
    "    return page\n",
    "\n",
    "# Main application logic\n",
    "def main():\n",
    "    if \"user\" not in st.session_state:\n",
    "        login_page()\n",
    "    else:\n",
    "        page = sidebar()\n",
    "\n",
    "        if page == \"About\":\n",
    "            about_page()\n",
    "        elif page == \"Student\":\n",
    "            student_page()\n",
    "        elif page == \"Evaluator\":\n",
    "            evaluator_page()\n",
    "        elif page == \"Score\":\n",
    "            score_page()\n",
    "        elif page == \"Future Scope\":\n",
    "            future_scope_page()\n",
    "\n",
    "if __name__ == \"__main__\":\n",
    "    main()\n"
   ]
  },
  {
   "cell_type": "code",
   "execution_count": 5,
   "metadata": {},
   "outputs": [
    {
     "ename": "SyntaxError",
     "evalue": "invalid syntax (2665882438.py, line 1)",
     "output_type": "error",
     "traceback": [
      "\u001b[0;36m  Cell \u001b[0;32mIn[5], line 1\u001b[0;36m\u001b[0m\n\u001b[0;31m    streamlit run /home/manax/.local/lib/python3.10/site-packages/ipykernel_launcher.py\u001b[0m\n\u001b[0m              ^\u001b[0m\n\u001b[0;31mSyntaxError\u001b[0m\u001b[0;31m:\u001b[0m invalid syntax\n"
     ]
    }
   ],
   "source": [
    "streamlit run /home/manax/.local/lib/python3.10/site-packages/ipykernel_launcher.py"
   ]
  },
  {
   "cell_type": "code",
   "execution_count": null,
   "metadata": {},
   "outputs": [],
   "source": []
  }
 ],
 "metadata": {
  "kernelspec": {
   "display_name": "Python 3",
   "language": "python",
   "name": "python3"
  },
  "language_info": {
   "codemirror_mode": {
    "name": "ipython",
    "version": 3
   },
   "file_extension": ".py",
   "mimetype": "text/x-python",
   "name": "python",
   "nbconvert_exporter": "python",
   "pygments_lexer": "ipython3",
   "version": "3.10.12"
  }
 },
 "nbformat": 4,
 "nbformat_minor": 2
}
